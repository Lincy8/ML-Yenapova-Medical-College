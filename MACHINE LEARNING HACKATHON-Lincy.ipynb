{
 "cells": [
  {
   "cell_type": "code",
   "execution_count": 398,
   "metadata": {},
   "outputs": [],
   "source": [
    "import pandas as pd\n",
    "import numpy as np\n",
    "import scipy\n",
    "import math\n",
    "from scipy.stats import binom\n",
    "import scipy.optimize\n",
    "import scipy.spatial\n",
    "import os\n",
    "import matplotlib.pyplot as plt, seaborn as sns\n",
    "%matplotlib inline"
   ]
  },
  {
   "cell_type": "code",
   "execution_count": 399,
   "metadata": {},
   "outputs": [],
   "source": [
    "df = pd.read_excel('childbirth.xlsx')"
   ]
  },
  {
   "cell_type": "code",
   "execution_count": 400,
   "metadata": {},
   "outputs": [
    {
     "data": {
      "text/html": [
       "<div>\n",
       "<style scoped>\n",
       "    .dataframe tbody tr th:only-of-type {\n",
       "        vertical-align: middle;\n",
       "    }\n",
       "\n",
       "    .dataframe tbody tr th {\n",
       "        vertical-align: top;\n",
       "    }\n",
       "\n",
       "    .dataframe thead th {\n",
       "        text-align: right;\n",
       "    }\n",
       "</style>\n",
       "<table border=\"1\" class=\"dataframe\">\n",
       "  <thead>\n",
       "    <tr style=\"text-align: right;\">\n",
       "      <th></th>\n",
       "      <th>BabyId</th>\n",
       "      <th>FirsttimeParent</th>\n",
       "      <th>Crying_date</th>\n",
       "      <th>Crying_time</th>\n",
       "      <th>Crying_seconds</th>\n",
       "      <th>Feeding_date</th>\n",
       "      <th>Feeding_time</th>\n",
       "      <th>Bottle_amount</th>\n",
       "      <th>PumpingDate</th>\n",
       "      <th>PumpingTime</th>\n",
       "      <th>Pumping_Left</th>\n",
       "      <th>PumpingRight</th>\n",
       "      <th>SleepingDate</th>\n",
       "      <th>SleepingTime</th>\n",
       "      <th>SleepingSecond</th>\n",
       "    </tr>\n",
       "  </thead>\n",
       "  <tbody>\n",
       "    <tr>\n",
       "      <th>0</th>\n",
       "      <td>HPT2_NR_16</td>\n",
       "      <td>1</td>\n",
       "      <td>2015-08-05</td>\n",
       "      <td>20:31:47</td>\n",
       "      <td>900.0</td>\n",
       "      <td>2015-08-05</td>\n",
       "      <td>20:31:47</td>\n",
       "      <td>180.0</td>\n",
       "      <td>2015-08-05</td>\n",
       "      <td>20:31:47</td>\n",
       "      <td>40.0</td>\n",
       "      <td>30.0</td>\n",
       "      <td>2015-08-05</td>\n",
       "      <td>20:31:47</td>\n",
       "      <td>5153.979043</td>\n",
       "    </tr>\n",
       "    <tr>\n",
       "      <th>1</th>\n",
       "      <td>HPT2_NR_16</td>\n",
       "      <td>1</td>\n",
       "      <td>2015-08-05</td>\n",
       "      <td>23:33:46</td>\n",
       "      <td>600.0</td>\n",
       "      <td>2015-08-05</td>\n",
       "      <td>23:33:46</td>\n",
       "      <td>180.0</td>\n",
       "      <td>2015-08-05</td>\n",
       "      <td>23:33:46</td>\n",
       "      <td>50.0</td>\n",
       "      <td>35.0</td>\n",
       "      <td>2015-08-05</td>\n",
       "      <td>23:33:46</td>\n",
       "      <td>33365.111960</td>\n",
       "    </tr>\n",
       "    <tr>\n",
       "      <th>2</th>\n",
       "      <td>HPT2_NR_16</td>\n",
       "      <td>1</td>\n",
       "      <td>2015-08-06</td>\n",
       "      <td>10:20:00</td>\n",
       "      <td>916.0</td>\n",
       "      <td>2015-08-06</td>\n",
       "      <td>10:20:00</td>\n",
       "      <td>180.0</td>\n",
       "      <td>2015-08-06</td>\n",
       "      <td>10:20:00</td>\n",
       "      <td>NaN</td>\n",
       "      <td>NaN</td>\n",
       "      <td>2015-08-06</td>\n",
       "      <td>10:20:00</td>\n",
       "      <td>2100.000000</td>\n",
       "    </tr>\n",
       "    <tr>\n",
       "      <th>3</th>\n",
       "      <td>HPT2_NR_16</td>\n",
       "      <td>1</td>\n",
       "      <td>2015-08-06</td>\n",
       "      <td>11:30:00</td>\n",
       "      <td>300.0</td>\n",
       "      <td>2015-08-06</td>\n",
       "      <td>11:30:00</td>\n",
       "      <td>35.0</td>\n",
       "      <td>2015-08-06</td>\n",
       "      <td>11:30:00</td>\n",
       "      <td>NaN</td>\n",
       "      <td>NaN</td>\n",
       "      <td>2015-08-06</td>\n",
       "      <td>11:30:00</td>\n",
       "      <td>1200.000000</td>\n",
       "    </tr>\n",
       "    <tr>\n",
       "      <th>4</th>\n",
       "      <td>HPT2_NR_16</td>\n",
       "      <td>1</td>\n",
       "      <td>2015-08-06</td>\n",
       "      <td>12:15:00</td>\n",
       "      <td>600.0</td>\n",
       "      <td>2015-08-06</td>\n",
       "      <td>12:15:00</td>\n",
       "      <td>180.0</td>\n",
       "      <td>2015-08-06</td>\n",
       "      <td>12:15:00</td>\n",
       "      <td>NaN</td>\n",
       "      <td>NaN</td>\n",
       "      <td>2015-08-06</td>\n",
       "      <td>12:15:00</td>\n",
       "      <td>4800.000000</td>\n",
       "    </tr>\n",
       "  </tbody>\n",
       "</table>\n",
       "</div>"
      ],
      "text/plain": [
       "       BabyId  FirsttimeParent Crying_date Crying_time  Crying_seconds  \\\n",
       "0  HPT2_NR_16                1  2015-08-05    20:31:47           900.0   \n",
       "1  HPT2_NR_16                1  2015-08-05    23:33:46           600.0   \n",
       "2  HPT2_NR_16                1  2015-08-06    10:20:00           916.0   \n",
       "3  HPT2_NR_16                1  2015-08-06    11:30:00           300.0   \n",
       "4  HPT2_NR_16                1  2015-08-06    12:15:00           600.0   \n",
       "\n",
       "  Feeding_date Feeding_time  Bottle_amount PumpingDate PumpingTime  \\\n",
       "0   2015-08-05     20:31:47          180.0  2015-08-05    20:31:47   \n",
       "1   2015-08-05     23:33:46          180.0  2015-08-05    23:33:46   \n",
       "2   2015-08-06     10:20:00          180.0  2015-08-06    10:20:00   \n",
       "3   2015-08-06     11:30:00           35.0  2015-08-06    11:30:00   \n",
       "4   2015-08-06     12:15:00          180.0  2015-08-06    12:15:00   \n",
       "\n",
       "   Pumping_Left  PumpingRight SleepingDate SleepingTime  SleepingSecond  \n",
       "0          40.0          30.0   2015-08-05     20:31:47     5153.979043  \n",
       "1          50.0          35.0   2015-08-05     23:33:46    33365.111960  \n",
       "2           NaN           NaN   2015-08-06     10:20:00     2100.000000  \n",
       "3           NaN           NaN   2015-08-06     11:30:00     1200.000000  \n",
       "4           NaN           NaN   2015-08-06     12:15:00     4800.000000  "
      ]
     },
     "execution_count": 400,
     "metadata": {},
     "output_type": "execute_result"
    }
   ],
   "source": [
    "df.head()"
   ]
  },
  {
   "cell_type": "code",
   "execution_count": 401,
   "metadata": {},
   "outputs": [
    {
     "data": {
      "text/plain": [
       "(1773, 15)"
      ]
     },
     "execution_count": 401,
     "metadata": {},
     "output_type": "execute_result"
    }
   ],
   "source": [
    "df.shape"
   ]
  },
  {
   "cell_type": "code",
   "execution_count": 402,
   "metadata": {},
   "outputs": [
    {
     "name": "stdout",
     "output_type": "stream",
     "text": [
      "<class 'pandas.core.frame.DataFrame'>\n",
      "RangeIndex: 1773 entries, 0 to 1772\n",
      "Data columns (total 15 columns):\n",
      " #   Column           Non-Null Count  Dtype         \n",
      "---  ------           --------------  -----         \n",
      " 0   BabyId           1773 non-null   object        \n",
      " 1   FirsttimeParent  1773 non-null   int64         \n",
      " 2   Crying_date      1773 non-null   datetime64[ns]\n",
      " 3   Crying_time      1773 non-null   object        \n",
      " 4   Crying_seconds   73 non-null     float64       \n",
      " 5   Feeding_date     1773 non-null   datetime64[ns]\n",
      " 6   Feeding_time     1773 non-null   object        \n",
      " 7   Bottle_amount    1044 non-null   float64       \n",
      " 8   PumpingDate      1773 non-null   datetime64[ns]\n",
      " 9   PumpingTime      1773 non-null   object        \n",
      " 10  Pumping_Left     61 non-null     float64       \n",
      " 11  PumpingRight     68 non-null     float64       \n",
      " 12  SleepingDate     1773 non-null   datetime64[ns]\n",
      " 13  SleepingTime     1773 non-null   object        \n",
      " 14  SleepingSecond   996 non-null    float64       \n",
      "dtypes: datetime64[ns](4), float64(5), int64(1), object(5)\n",
      "memory usage: 207.9+ KB\n"
     ]
    }
   ],
   "source": [
    "df.info()"
   ]
  },
  {
   "cell_type": "code",
   "execution_count": 403,
   "metadata": {},
   "outputs": [
    {
     "data": {
      "text/plain": [
       "BabyId                0\n",
       "FirsttimeParent       0\n",
       "Crying_date           0\n",
       "Crying_time           0\n",
       "Crying_seconds     1700\n",
       "Feeding_date          0\n",
       "Feeding_time          0\n",
       "Bottle_amount       729\n",
       "PumpingDate           0\n",
       "PumpingTime           0\n",
       "Pumping_Left       1712\n",
       "PumpingRight       1705\n",
       "SleepingDate          0\n",
       "SleepingTime          0\n",
       "SleepingSecond      777\n",
       "dtype: int64"
      ]
     },
     "execution_count": 403,
     "metadata": {},
     "output_type": "execute_result"
    }
   ],
   "source": [
    "#null values\n",
    "df.isnull().sum()"
   ]
  },
  {
   "cell_type": "code",
   "execution_count": 404,
   "metadata": {},
   "outputs": [
    {
     "data": {
      "text/html": [
       "<div>\n",
       "<style scoped>\n",
       "    .dataframe tbody tr th:only-of-type {\n",
       "        vertical-align: middle;\n",
       "    }\n",
       "\n",
       "    .dataframe tbody tr th {\n",
       "        vertical-align: top;\n",
       "    }\n",
       "\n",
       "    .dataframe thead th {\n",
       "        text-align: right;\n",
       "    }\n",
       "</style>\n",
       "<table border=\"1\" class=\"dataframe\">\n",
       "  <thead>\n",
       "    <tr style=\"text-align: right;\">\n",
       "      <th></th>\n",
       "      <th>FirsttimeParent</th>\n",
       "      <th>Crying_seconds</th>\n",
       "      <th>Bottle_amount</th>\n",
       "      <th>Pumping_Left</th>\n",
       "      <th>PumpingRight</th>\n",
       "      <th>SleepingSecond</th>\n",
       "    </tr>\n",
       "  </thead>\n",
       "  <tbody>\n",
       "    <tr>\n",
       "      <th>count</th>\n",
       "      <td>1773.000000</td>\n",
       "      <td>73.000000</td>\n",
       "      <td>1044.000000</td>\n",
       "      <td>61.000000</td>\n",
       "      <td>68.000000</td>\n",
       "      <td>996.000000</td>\n",
       "    </tr>\n",
       "    <tr>\n",
       "      <th>mean</th>\n",
       "      <td>0.840948</td>\n",
       "      <td>1457.206746</td>\n",
       "      <td>127.203065</td>\n",
       "      <td>48.360656</td>\n",
       "      <td>38.014706</td>\n",
       "      <td>9896.331302</td>\n",
       "    </tr>\n",
       "    <tr>\n",
       "      <th>std</th>\n",
       "      <td>0.365828</td>\n",
       "      <td>2059.022294</td>\n",
       "      <td>36.557694</td>\n",
       "      <td>42.600091</td>\n",
       "      <td>25.394495</td>\n",
       "      <td>8834.708534</td>\n",
       "    </tr>\n",
       "    <tr>\n",
       "      <th>min</th>\n",
       "      <td>0.000000</td>\n",
       "      <td>25.000000</td>\n",
       "      <td>20.000000</td>\n",
       "      <td>0.000000</td>\n",
       "      <td>0.000000</td>\n",
       "      <td>114.492544</td>\n",
       "    </tr>\n",
       "    <tr>\n",
       "      <th>25%</th>\n",
       "      <td>1.000000</td>\n",
       "      <td>300.000000</td>\n",
       "      <td>100.000000</td>\n",
       "      <td>25.000000</td>\n",
       "      <td>20.000000</td>\n",
       "      <td>3599.739393</td>\n",
       "    </tr>\n",
       "    <tr>\n",
       "      <th>50%</th>\n",
       "      <td>1.000000</td>\n",
       "      <td>900.000000</td>\n",
       "      <td>120.000000</td>\n",
       "      <td>40.000000</td>\n",
       "      <td>32.500000</td>\n",
       "      <td>7701.496468</td>\n",
       "    </tr>\n",
       "    <tr>\n",
       "      <th>75%</th>\n",
       "      <td>1.000000</td>\n",
       "      <td>1800.000000</td>\n",
       "      <td>150.000000</td>\n",
       "      <td>55.000000</td>\n",
       "      <td>55.000000</td>\n",
       "      <td>12600.000000</td>\n",
       "    </tr>\n",
       "    <tr>\n",
       "      <th>max</th>\n",
       "      <td>1.000000</td>\n",
       "      <td>12600.000000</td>\n",
       "      <td>210.000000</td>\n",
       "      <td>190.000000</td>\n",
       "      <td>155.000000</td>\n",
       "      <td>45000.000000</td>\n",
       "    </tr>\n",
       "  </tbody>\n",
       "</table>\n",
       "</div>"
      ],
      "text/plain": [
       "       FirsttimeParent  Crying_seconds  Bottle_amount  Pumping_Left  \\\n",
       "count      1773.000000       73.000000    1044.000000     61.000000   \n",
       "mean          0.840948     1457.206746     127.203065     48.360656   \n",
       "std           0.365828     2059.022294      36.557694     42.600091   \n",
       "min           0.000000       25.000000      20.000000      0.000000   \n",
       "25%           1.000000      300.000000     100.000000     25.000000   \n",
       "50%           1.000000      900.000000     120.000000     40.000000   \n",
       "75%           1.000000     1800.000000     150.000000     55.000000   \n",
       "max           1.000000    12600.000000     210.000000    190.000000   \n",
       "\n",
       "       PumpingRight  SleepingSecond  \n",
       "count     68.000000      996.000000  \n",
       "mean      38.014706     9896.331302  \n",
       "std       25.394495     8834.708534  \n",
       "min        0.000000      114.492544  \n",
       "25%       20.000000     3599.739393  \n",
       "50%       32.500000     7701.496468  \n",
       "75%       55.000000    12600.000000  \n",
       "max      155.000000    45000.000000  "
      ]
     },
     "execution_count": 404,
     "metadata": {},
     "output_type": "execute_result"
    }
   ],
   "source": [
    "df.describe()"
   ]
  },
  {
   "cell_type": "markdown",
   "metadata": {},
   "source": [
    "# Clean the data"
   ]
  },
  {
   "cell_type": "code",
   "execution_count": 405,
   "metadata": {},
   "outputs": [
    {
     "data": {
      "text/plain": [
       "<matplotlib.axes._subplots.AxesSubplot at 0x1ce73260348>"
      ]
     },
     "execution_count": 405,
     "metadata": {},
     "output_type": "execute_result"
    },
    {
     "data": {
      "image/png": "[encoded data removed]",
      "text/plain": [
       "<Figure size 432x288 with 1 Axes>"
      ]
     },
     "metadata": {
      "needs_background": "light"
     },
     "output_type": "display_data"
    }
   ],
   "source": [
    "# finding outlier\n",
    "sns.boxplot(x='Crying_seconds',data=df)"
   ]
  },
  {
   "cell_type": "code",
   "execution_count": 406,
   "metadata": {},
   "outputs": [
    {
     "name": "stderr",
     "output_type": "stream",
     "text": [
      "C:\\Users\\admin\\anaconda3\\lib\\site-packages\\numpy\\lib\\histograms.py:839: RuntimeWarning: invalid value encountered in greater_equal\n",
      "  keep = (tmp_a >= first_edge)\n",
      "C:\\Users\\admin\\anaconda3\\lib\\site-packages\\numpy\\lib\\histograms.py:840: RuntimeWarning: invalid value encountered in less_equal\n",
      "  keep &= (tmp_a <= last_edge)\n"
     ]
    },
    {
     "data": {
      "text/plain": [
       "(array([49., 14.,  4.,  2.,  1.,  0.,  2.,  0.,  0.,  1.]),\n",
       " array([   25. ,  1282.5,  2540. ,  3797.5,  5055. ,  6312.5,  7570. ,\n",
       "         8827.5, 10085. , 11342.5, 12600. ]),\n",
       " <a list of 10 Patch objects>)"
      ]
     },
     "execution_count": 406,
     "metadata": {},
     "output_type": "execute_result"
    },
    {
     "data": {
      "image/png": "[encoded data removed]",
      "text/plain": [
       "<Figure size 432x288 with 1 Axes>"
      ]
     },
     "metadata": {
      "needs_background": "light"
     },
     "output_type": "display_data"
    }
   ],
   "source": [
    "plt.hist(x='Crying_seconds',data=df)"
   ]
  },
  {
   "cell_type": "code",
   "execution_count": 407,
   "metadata": {},
   "outputs": [
    {
     "data": {
      "text/plain": [
       "<matplotlib.axes._subplots.AxesSubplot at 0x1ce6bae8448>"
      ]
     },
     "execution_count": 407,
     "metadata": {},
     "output_type": "execute_result"
    },
    {
     "data": {
      "image/png": "[encoded data removed]",
      "text/plain": [
       "<Figure size 432x288 with 1 Axes>"
      ]
     },
     "metadata": {
      "needs_background": "light"
     },
     "output_type": "display_data"
    }
   ],
   "source": [
    "#finding outliears\n",
    "df.boxplot()"
   ]
  },
  {
   "cell_type": "code",
   "execution_count": 408,
   "metadata": {},
   "outputs": [
    {
     "data": {
      "text/plain": [
       "array([[<matplotlib.axes._subplots.AxesSubplot object at 0x000001CE7328B248>,\n",
       "        <matplotlib.axes._subplots.AxesSubplot object at 0x000001CE68448548>],\n",
       "       [<matplotlib.axes._subplots.AxesSubplot object at 0x000001CE65BFB908>,\n",
       "        <matplotlib.axes._subplots.AxesSubplot object at 0x000001CE65BFEA48>],\n",
       "       [<matplotlib.axes._subplots.AxesSubplot object at 0x000001CE6F585B48>,\n",
       "        <matplotlib.axes._subplots.AxesSubplot object at 0x000001CE6F461C08>]],\n",
       "      dtype=object)"
      ]
     },
     "execution_count": 408,
     "metadata": {},
     "output_type": "execute_result"
    },
    {
     "data": {
      "image/png": "[encoded data removed]",
      "text/plain": [
       "<Figure size 432x288 with 6 Axes>"
      ]
     },
     "metadata": {
      "needs_background": "light"
     },
     "output_type": "display_data"
    }
   ],
   "source": [
    "#major data is left skewed\n",
    "df.hist()"
   ]
  },
  {
   "cell_type": "markdown",
   "metadata": {},
   "source": [
    "# Filling blank columns with mean median mode"
   ]
  },
  {
   "cell_type": "code",
   "execution_count": 409,
   "metadata": {},
   "outputs": [],
   "source": [
    "def impute_median(series):\n",
    "    return series.fillna(series.median())"
   ]
  },
  {
   "cell_type": "code",
   "execution_count": 410,
   "metadata": {},
   "outputs": [],
   "source": [
    "df.Crying_seconds=df['Crying_seconds'].transform(impute_median)\n",
    "df.SleepingSecond=df['SleepingSecond'].transform(impute_median)\n",
    "df.Pumping_Left=df['Pumping_Left'].transform(impute_median)\n",
    "df.PumpingRight=df['PumpingRight'].transform(impute_median)"
   ]
  },
  {
   "cell_type": "code",
   "execution_count": 411,
   "metadata": {},
   "outputs": [],
   "source": [
    "df['Bottle_amount'] = df['Bottle_amount'].fillna(df['Bottle_amount'].mode()[0])"
   ]
  },
  {
   "cell_type": "code",
   "execution_count": 412,
   "metadata": {},
   "outputs": [
    {
     "data": {
      "text/plain": [
       "BabyId             0\n",
       "FirsttimeParent    0\n",
       "Crying_date        0\n",
       "Crying_time        0\n",
       "Crying_seconds     0\n",
       "Feeding_date       0\n",
       "Feeding_time       0\n",
       "Bottle_amount      0\n",
       "PumpingDate        0\n",
       "PumpingTime        0\n",
       "Pumping_Left       0\n",
       "PumpingRight       0\n",
       "SleepingDate       0\n",
       "SleepingTime       0\n",
       "SleepingSecond     0\n",
       "dtype: int64"
      ]
     },
     "execution_count": 412,
     "metadata": {},
     "output_type": "execute_result"
    }
   ],
   "source": [
    "df.isnull().sum()"
   ]
  },
  {
   "cell_type": "markdown",
   "metadata": {},
   "source": [
    "# Perform feature engineering"
   ]
  },
  {
   "cell_type": "code",
   "execution_count": 413,
   "metadata": {},
   "outputs": [
    {
     "data": {
      "text/html": [
       "<div>\n",
       "<style scoped>\n",
       "    .dataframe tbody tr th:only-of-type {\n",
       "        vertical-align: middle;\n",
       "    }\n",
       "\n",
       "    .dataframe tbody tr th {\n",
       "        vertical-align: top;\n",
       "    }\n",
       "\n",
       "    .dataframe thead th {\n",
       "        text-align: right;\n",
       "    }\n",
       "</style>\n",
       "<table border=\"1\" class=\"dataframe\">\n",
       "  <thead>\n",
       "    <tr style=\"text-align: right;\">\n",
       "      <th></th>\n",
       "      <th>BabyId</th>\n",
       "      <th>FirsttimeParent</th>\n",
       "      <th>Crying_date</th>\n",
       "      <th>Crying_time</th>\n",
       "      <th>Crying_seconds</th>\n",
       "      <th>Feeding_date</th>\n",
       "      <th>Feeding_time</th>\n",
       "      <th>Bottle_amount</th>\n",
       "      <th>PumpingDate</th>\n",
       "      <th>PumpingTime</th>\n",
       "      <th>Pumping_Left</th>\n",
       "      <th>PumpingRight</th>\n",
       "      <th>SleepingDate</th>\n",
       "      <th>SleepingTime</th>\n",
       "      <th>SleepingSecond</th>\n",
       "    </tr>\n",
       "  </thead>\n",
       "  <tbody>\n",
       "    <tr>\n",
       "      <th>0</th>\n",
       "      <td>HPT2_NR_16</td>\n",
       "      <td>1</td>\n",
       "      <td>2015-08-05</td>\n",
       "      <td>20:31:47</td>\n",
       "      <td>900.0</td>\n",
       "      <td>2015-08-05</td>\n",
       "      <td>20:31:47</td>\n",
       "      <td>180.0</td>\n",
       "      <td>2015-08-05</td>\n",
       "      <td>20:31:47</td>\n",
       "      <td>40.0</td>\n",
       "      <td>30.0</td>\n",
       "      <td>2015-08-05</td>\n",
       "      <td>20:31:47</td>\n",
       "      <td>5153.979043</td>\n",
       "    </tr>\n",
       "    <tr>\n",
       "      <th>1</th>\n",
       "      <td>HPT2_NR_16</td>\n",
       "      <td>1</td>\n",
       "      <td>2015-08-05</td>\n",
       "      <td>23:33:46</td>\n",
       "      <td>600.0</td>\n",
       "      <td>2015-08-05</td>\n",
       "      <td>23:33:46</td>\n",
       "      <td>180.0</td>\n",
       "      <td>2015-08-05</td>\n",
       "      <td>23:33:46</td>\n",
       "      <td>50.0</td>\n",
       "      <td>35.0</td>\n",
       "      <td>2015-08-05</td>\n",
       "      <td>23:33:46</td>\n",
       "      <td>33365.111960</td>\n",
       "    </tr>\n",
       "    <tr>\n",
       "      <th>2</th>\n",
       "      <td>HPT2_NR_16</td>\n",
       "      <td>1</td>\n",
       "      <td>2015-08-06</td>\n",
       "      <td>10:20:00</td>\n",
       "      <td>916.0</td>\n",
       "      <td>2015-08-06</td>\n",
       "      <td>10:20:00</td>\n",
       "      <td>180.0</td>\n",
       "      <td>2015-08-06</td>\n",
       "      <td>10:20:00</td>\n",
       "      <td>40.0</td>\n",
       "      <td>32.5</td>\n",
       "      <td>2015-08-06</td>\n",
       "      <td>10:20:00</td>\n",
       "      <td>2100.000000</td>\n",
       "    </tr>\n",
       "    <tr>\n",
       "      <th>3</th>\n",
       "      <td>HPT2_NR_16</td>\n",
       "      <td>1</td>\n",
       "      <td>2015-08-06</td>\n",
       "      <td>11:30:00</td>\n",
       "      <td>300.0</td>\n",
       "      <td>2015-08-06</td>\n",
       "      <td>11:30:00</td>\n",
       "      <td>35.0</td>\n",
       "      <td>2015-08-06</td>\n",
       "      <td>11:30:00</td>\n",
       "      <td>40.0</td>\n",
       "      <td>32.5</td>\n",
       "      <td>2015-08-06</td>\n",
       "      <td>11:30:00</td>\n",
       "      <td>1200.000000</td>\n",
       "    </tr>\n",
       "    <tr>\n",
       "      <th>4</th>\n",
       "      <td>HPT2_NR_16</td>\n",
       "      <td>1</td>\n",
       "      <td>2015-08-06</td>\n",
       "      <td>12:15:00</td>\n",
       "      <td>600.0</td>\n",
       "      <td>2015-08-06</td>\n",
       "      <td>12:15:00</td>\n",
       "      <td>180.0</td>\n",
       "      <td>2015-08-06</td>\n",
       "      <td>12:15:00</td>\n",
       "      <td>40.0</td>\n",
       "      <td>32.5</td>\n",
       "      <td>2015-08-06</td>\n",
       "      <td>12:15:00</td>\n",
       "      <td>4800.000000</td>\n",
       "    </tr>\n",
       "  </tbody>\n",
       "</table>\n",
       "</div>"
      ],
      "text/plain": [
       "       BabyId  FirsttimeParent Crying_date Crying_time  Crying_seconds  \\\n",
       "0  HPT2_NR_16                1  2015-08-05    20:31:47           900.0   \n",
       "1  HPT2_NR_16                1  2015-08-05    23:33:46           600.0   \n",
       "2  HPT2_NR_16                1  2015-08-06    10:20:00           916.0   \n",
       "3  HPT2_NR_16                1  2015-08-06    11:30:00           300.0   \n",
       "4  HPT2_NR_16                1  2015-08-06    12:15:00           600.0   \n",
       "\n",
       "  Feeding_date Feeding_time  Bottle_amount PumpingDate PumpingTime  \\\n",
       "0   2015-08-05     20:31:47          180.0  2015-08-05    20:31:47   \n",
       "1   2015-08-05     23:33:46          180.0  2015-08-05    23:33:46   \n",
       "2   2015-08-06     10:20:00          180.0  2015-08-06    10:20:00   \n",
       "3   2015-08-06     11:30:00           35.0  2015-08-06    11:30:00   \n",
       "4   2015-08-06     12:15:00          180.0  2015-08-06    12:15:00   \n",
       "\n",
       "   Pumping_Left  PumpingRight SleepingDate SleepingTime  SleepingSecond  \n",
       "0          40.0          30.0   2015-08-05     20:31:47     5153.979043  \n",
       "1          50.0          35.0   2015-08-05     23:33:46    33365.111960  \n",
       "2          40.0          32.5   2015-08-06     10:20:00     2100.000000  \n",
       "3          40.0          32.5   2015-08-06     11:30:00     1200.000000  \n",
       "4          40.0          32.5   2015-08-06     12:15:00     4800.000000  "
      ]
     },
     "execution_count": 413,
     "metadata": {},
     "output_type": "execute_result"
    }
   ],
   "source": [
    "df.head()"
   ]
  },
  {
   "cell_type": "code",
   "execution_count": 414,
   "metadata": {},
   "outputs": [],
   "source": [
    "df.FirsttimeParent.replace((1,0),('Yes','No'),inplace =True)"
   ]
  },
  {
   "cell_type": "code",
   "execution_count": 415,
   "metadata": {},
   "outputs": [
    {
     "data": {
      "text/plain": [
       "Yes    0.840948\n",
       "No     0.159052\n",
       "Name: FirsttimeParent, dtype: float64"
      ]
     },
     "execution_count": 415,
     "metadata": {},
     "output_type": "execute_result"
    }
   ],
   "source": [
    "df.FirsttimeParent.value_counts(normalize=True)"
   ]
  },
  {
   "cell_type": "code",
   "execution_count": 416,
   "metadata": {},
   "outputs": [],
   "source": [
    "def sample(Yes, n=1000):\n",
    "    return pd.DataFrame({'FirsttimeParent':np.where(np.random.rand(n)<Yes,'Yes','No')})\n",
    "    "
   ]
  },
  {
   "cell_type": "code",
   "execution_count": 417,
   "metadata": {},
   "outputs": [],
   "source": [
    "dist =pd.DataFrame({'Yes':[sample(0.50,1000).FirsttimeParent.value_counts(normalize=True)['Yes'] for i in range(1000)]})"
   ]
  },
  {
   "cell_type": "code",
   "execution_count": 418,
   "metadata": {},
   "outputs": [
    {
     "data": {
      "text/plain": [
       "<matplotlib.lines.Line2D at 0x1ce73b7cd48>"
      ]
     },
     "execution_count": 418,
     "metadata": {},
     "output_type": "execute_result"
    },
    {
     "data": {
      "image/png": "[encoded data removed]",
      "text/plain": [
       "<Figure size 432x288 with 1 Axes>"
      ]
     },
     "metadata": {
      "needs_background": "light"
     },
     "output_type": "display_data"
    }
   ],
   "source": [
    "dist.Yes.hist(histtype='step',bins=20)\n",
    "plt.rcParams['figure.figsize']=15,8\n",
    "plt.axvline(0.840948,c='C1')"
   ]
  },
  {
   "cell_type": "code",
   "execution_count": 419,
   "metadata": {},
   "outputs": [
    {
     "data": {
      "text/plain": [
       "25.599999999999994"
      ]
     },
     "execution_count": 419,
     "metadata": {},
     "output_type": "execute_result"
    }
   ],
   "source": [
    "100-scipy.stats.percentileofscore(dist.Yes,0.511)"
   ]
  },
  {
   "cell_type": "code",
   "execution_count": 420,
   "metadata": {},
   "outputs": [],
   "source": [
    "#conclution: p-value is less than significance level,rejected null-hypothesis. "
   ]
  },
  {
   "cell_type": "markdown",
   "metadata": {},
   "source": [
    "# Analyze and visualize the data"
   ]
  },
  {
   "cell_type": "code",
   "execution_count": 421,
   "metadata": {},
   "outputs": [
    {
     "data": {
      "text/plain": [
       "array(['HPT2_NR_16', 'HPT2_NR_17', 'HPT2_NR_18', 'HPT2_NR_19',\n",
       "       'HPT2_NR_20', 'HPT2_NR_21', 'HPT2_NR_22', 'HPT2_NR_23',\n",
       "       'HPT2_NR_24', 'HPT2_NR_25', 'HPT2_NR_26', 'HPT2_NR_27',\n",
       "       'HPT2_NR_28', 'HPT2_NR_29', 'HPT2_NR_30', 'HPT2_NR_31',\n",
       "       'HPT2_NR_33'], dtype=object)"
      ]
     },
     "execution_count": 421,
     "metadata": {},
     "output_type": "execute_result"
    }
   ],
   "source": [
    "df['BabyId'].unique()"
   ]
  },
  {
   "cell_type": "markdown",
   "metadata": {},
   "source": [
    "# Total percentage of FirsttimeParent"
   ]
  },
  {
   "cell_type": "code",
   "execution_count": 422,
   "metadata": {},
   "outputs": [
    {
     "data": {
      "text/plain": [
       "<matplotlib.axes._subplots.AxesSubplot at 0x1ce73b7c988>"
      ]
     },
     "execution_count": 422,
     "metadata": {},
     "output_type": "execute_result"
    },
    {
     "data": {
      "image/png": "[encoded data removed]",
      "text/plain": [
       "<Figure size 432x432 with 1 Axes>"
      ]
     },
     "metadata": {},
     "output_type": "display_data"
    }
   ],
   "source": [
    "df['FirsttimeParent'].value_counts()\n",
    "df['FirsttimeParent'].value_counts().plot.pie(figsize=(6, 6), autopct='%.2f')"
   ]
  },
  {
   "cell_type": "markdown",
   "metadata": {},
   "source": [
    "# 84.09 % of parents are first time parents which greater than the once who are going to be parent of second child"
   ]
  },
  {
   "cell_type": "code",
   "execution_count": 423,
   "metadata": {},
   "outputs": [],
   "source": [
    "#extraxting date\n",
    "#Crying_date,PumpingDate,Feeding_date is same \n",
    "df['day']=df['Crying_date'].dt.day"
   ]
  },
  {
   "cell_type": "code",
   "execution_count": 424,
   "metadata": {},
   "outputs": [
    {
     "data": {
      "text/html": [
       "<div>\n",
       "<style scoped>\n",
       "    .dataframe tbody tr th:only-of-type {\n",
       "        vertical-align: middle;\n",
       "    }\n",
       "\n",
       "    .dataframe tbody tr th {\n",
       "        vertical-align: top;\n",
       "    }\n",
       "\n",
       "    .dataframe thead th {\n",
       "        text-align: right;\n",
       "    }\n",
       "</style>\n",
       "<table border=\"1\" class=\"dataframe\">\n",
       "  <thead>\n",
       "    <tr style=\"text-align: right;\">\n",
       "      <th></th>\n",
       "      <th>BabyId</th>\n",
       "      <th>FirsttimeParent</th>\n",
       "      <th>Crying_date</th>\n",
       "      <th>Crying_time</th>\n",
       "      <th>Crying_seconds</th>\n",
       "      <th>Feeding_date</th>\n",
       "      <th>Feeding_time</th>\n",
       "      <th>Bottle_amount</th>\n",
       "      <th>PumpingDate</th>\n",
       "      <th>PumpingTime</th>\n",
       "      <th>Pumping_Left</th>\n",
       "      <th>PumpingRight</th>\n",
       "      <th>SleepingDate</th>\n",
       "      <th>SleepingTime</th>\n",
       "      <th>SleepingSecond</th>\n",
       "      <th>day</th>\n",
       "    </tr>\n",
       "  </thead>\n",
       "  <tbody>\n",
       "    <tr>\n",
       "      <th>0</th>\n",
       "      <td>HPT2_NR_16</td>\n",
       "      <td>Yes</td>\n",
       "      <td>2015-08-05</td>\n",
       "      <td>20:31:47</td>\n",
       "      <td>900.0</td>\n",
       "      <td>2015-08-05</td>\n",
       "      <td>20:31:47</td>\n",
       "      <td>180.0</td>\n",
       "      <td>2015-08-05</td>\n",
       "      <td>20:31:47</td>\n",
       "      <td>40.0</td>\n",
       "      <td>30.0</td>\n",
       "      <td>2015-08-05</td>\n",
       "      <td>20:31:47</td>\n",
       "      <td>5153.979043</td>\n",
       "      <td>5</td>\n",
       "    </tr>\n",
       "    <tr>\n",
       "      <th>1</th>\n",
       "      <td>HPT2_NR_16</td>\n",
       "      <td>Yes</td>\n",
       "      <td>2015-08-05</td>\n",
       "      <td>23:33:46</td>\n",
       "      <td>600.0</td>\n",
       "      <td>2015-08-05</td>\n",
       "      <td>23:33:46</td>\n",
       "      <td>180.0</td>\n",
       "      <td>2015-08-05</td>\n",
       "      <td>23:33:46</td>\n",
       "      <td>50.0</td>\n",
       "      <td>35.0</td>\n",
       "      <td>2015-08-05</td>\n",
       "      <td>23:33:46</td>\n",
       "      <td>33365.111960</td>\n",
       "      <td>5</td>\n",
       "    </tr>\n",
       "    <tr>\n",
       "      <th>2</th>\n",
       "      <td>HPT2_NR_16</td>\n",
       "      <td>Yes</td>\n",
       "      <td>2015-08-06</td>\n",
       "      <td>10:20:00</td>\n",
       "      <td>916.0</td>\n",
       "      <td>2015-08-06</td>\n",
       "      <td>10:20:00</td>\n",
       "      <td>180.0</td>\n",
       "      <td>2015-08-06</td>\n",
       "      <td>10:20:00</td>\n",
       "      <td>40.0</td>\n",
       "      <td>32.5</td>\n",
       "      <td>2015-08-06</td>\n",
       "      <td>10:20:00</td>\n",
       "      <td>2100.000000</td>\n",
       "      <td>6</td>\n",
       "    </tr>\n",
       "    <tr>\n",
       "      <th>3</th>\n",
       "      <td>HPT2_NR_16</td>\n",
       "      <td>Yes</td>\n",
       "      <td>2015-08-06</td>\n",
       "      <td>11:30:00</td>\n",
       "      <td>300.0</td>\n",
       "      <td>2015-08-06</td>\n",
       "      <td>11:30:00</td>\n",
       "      <td>35.0</td>\n",
       "      <td>2015-08-06</td>\n",
       "      <td>11:30:00</td>\n",
       "      <td>40.0</td>\n",
       "      <td>32.5</td>\n",
       "      <td>2015-08-06</td>\n",
       "      <td>11:30:00</td>\n",
       "      <td>1200.000000</td>\n",
       "      <td>6</td>\n",
       "    </tr>\n",
       "    <tr>\n",
       "      <th>4</th>\n",
       "      <td>HPT2_NR_16</td>\n",
       "      <td>Yes</td>\n",
       "      <td>2015-08-06</td>\n",
       "      <td>12:15:00</td>\n",
       "      <td>600.0</td>\n",
       "      <td>2015-08-06</td>\n",
       "      <td>12:15:00</td>\n",
       "      <td>180.0</td>\n",
       "      <td>2015-08-06</td>\n",
       "      <td>12:15:00</td>\n",
       "      <td>40.0</td>\n",
       "      <td>32.5</td>\n",
       "      <td>2015-08-06</td>\n",
       "      <td>12:15:00</td>\n",
       "      <td>4800.000000</td>\n",
       "      <td>6</td>\n",
       "    </tr>\n",
       "  </tbody>\n",
       "</table>\n",
       "</div>"
      ],
      "text/plain": [
       "       BabyId FirsttimeParent Crying_date Crying_time  Crying_seconds  \\\n",
       "0  HPT2_NR_16             Yes  2015-08-05    20:31:47           900.0   \n",
       "1  HPT2_NR_16             Yes  2015-08-05    23:33:46           600.0   \n",
       "2  HPT2_NR_16             Yes  2015-08-06    10:20:00           916.0   \n",
       "3  HPT2_NR_16             Yes  2015-08-06    11:30:00           300.0   \n",
       "4  HPT2_NR_16             Yes  2015-08-06    12:15:00           600.0   \n",
       "\n",
       "  Feeding_date Feeding_time  Bottle_amount PumpingDate PumpingTime  \\\n",
       "0   2015-08-05     20:31:47          180.0  2015-08-05    20:31:47   \n",
       "1   2015-08-05     23:33:46          180.0  2015-08-05    23:33:46   \n",
       "2   2015-08-06     10:20:00          180.0  2015-08-06    10:20:00   \n",
       "3   2015-08-06     11:30:00           35.0  2015-08-06    11:30:00   \n",
       "4   2015-08-06     12:15:00          180.0  2015-08-06    12:15:00   \n",
       "\n",
       "   Pumping_Left  PumpingRight SleepingDate SleepingTime  SleepingSecond  day  \n",
       "0          40.0          30.0   2015-08-05     20:31:47     5153.979043    5  \n",
       "1          50.0          35.0   2015-08-05     23:33:46    33365.111960    5  \n",
       "2          40.0          32.5   2015-08-06     10:20:00     2100.000000    6  \n",
       "3          40.0          32.5   2015-08-06     11:30:00     1200.000000    6  \n",
       "4          40.0          32.5   2015-08-06     12:15:00     4800.000000    6  "
      ]
     },
     "execution_count": 424,
     "metadata": {},
     "output_type": "execute_result"
    }
   ],
   "source": [
    "df.head()"
   ]
  },
  {
   "cell_type": "markdown",
   "metadata": {},
   "source": [
    "# Compared Day-wise crying seconds of baby"
   ]
  },
  {
   "cell_type": "code",
   "execution_count": 425,
   "metadata": {},
   "outputs": [],
   "source": [
    "df_day = df.groupby('day').count()['Crying_seconds'].reset_index()"
   ]
  },
  {
   "cell_type": "code",
   "execution_count": 426,
   "metadata": {},
   "outputs": [
    {
     "data": {
      "text/plain": [
       "Text(0.5, 0, 'day')"
      ]
     },
     "execution_count": 426,
     "metadata": {},
     "output_type": "execute_result"
    },
    {
     "data": {
      "image/png": "[encoded data removed]",
      "text/plain": [
       "<Figure size 1080x360 with 1 Axes>"
      ]
     },
     "metadata": {
      "needs_background": "light"
     },
     "output_type": "display_data"
    }
   ],
   "source": [
    "plt.figure(figsize=[15,5])\n",
    "plt.plot(df_day['day'],df_day['Crying_seconds'])\n",
    "plt.xticks(rotation = 'vertical',size=8)\n",
    "\n",
    "plt.title('day-wise-babycring')\n",
    "plt.ylabel('Seconds')\n",
    "plt.xlabel('day')"
   ]
  },
  {
   "cell_type": "markdown",
   "metadata": {},
   "source": [
    "12th day the maximum seconds babies have cried"
   ]
  },
  {
   "cell_type": "markdown",
   "metadata": {},
   "source": [
    "# Compared few  BabyId to check which day most them have cried"
   ]
  },
  {
   "cell_type": "code",
   "execution_count": 427,
   "metadata": {},
   "outputs": [
    {
     "data": {
      "image/png": "[encoded data removed]",
      "text/plain": [
       "<Figure size 1008x360 with 1 Axes>"
      ]
     },
     "metadata": {
      "needs_background": "light"
     },
     "output_type": "display_data"
    }
   ],
   "source": [
    "plt.figure(figsize=(14,5))\n",
    "\n",
    "df.loc[df['BabyId']=='HPT2_NR_16'].groupby('day')['Crying_seconds'].nunique().plot(color='b',marker='o',label='Baby1')\n",
    "df.loc[df['BabyId']=='HPT2_NR_17'].groupby('day')['Crying_seconds'].nunique().plot(color='r',marker='o',label='Baby2')\n",
    "df.loc[df['BabyId']=='HPT2_NR_18'].groupby('day')['Crying_seconds'].nunique().plot(color='g',marker='o',label='Baby3')\n",
    "df.loc[df['BabyId']=='HPT2_NR_19'].groupby('day')['Crying_seconds'].nunique().plot(color='y',marker='o',label='Baby4')\n",
    "\n",
    "plt.ylabel(\"Number of Child\")\n",
    "plt.legend(loc='upper left')\n",
    "plt.title(\"comparing cry on every day \")\n",
    "plt.grid(False)"
   ]
  },
  {
   "cell_type": "markdown",
   "metadata": {},
   "source": [
    "From the graph it can bee seen that 6th day babies have cried the most"
   ]
  },
  {
   "cell_type": "markdown",
   "metadata": {},
   "source": [
    "# Comparassion of Baby-ID and total amount spend on bottle"
   ]
  },
  {
   "cell_type": "code",
   "execution_count": 428,
   "metadata": {},
   "outputs": [
    {
     "data": {
      "image/png": "[encoded data removed]",
      "text/plain": [
       "<Figure size 1080x576 with 1 Axes>"
      ]
     },
     "metadata": {
      "needs_background": "light"
     },
     "output_type": "display_data"
    }
   ],
   "source": [
    "df.groupby('BabyId')['Bottle_amount'].sum().plot(kind='bar', color = 'orange');\n",
    "plt.title(\"The maximum amount spend on bottle by each baby\")\n",
    "plt.ylabel('Bottle_amount')\n",
    "plt.rcParams['figure.figsize']=(10,8)\n",
    "plt.xlabel('BabyId');"
   ]
  },
  {
   "cell_type": "markdown",
   "metadata": {},
   "source": [
    "HPT2_NR_30 has spend maximum amount for bottle"
   ]
  },
  {
   "cell_type": "markdown",
   "metadata": {},
   "source": [
    "# Comparing babyId and sleep take seconds-wise"
   ]
  },
  {
   "cell_type": "code",
   "execution_count": 429,
   "metadata": {},
   "outputs": [
    {
     "data": {
      "text/plain": [
       "Text(0.5, 0, 'BabyId')"
      ]
     },
     "execution_count": 429,
     "metadata": {},
     "output_type": "execute_result"
    },
    {
     "data": {
      "image/png": "[encoded data removed]",
      "text/plain": [
       "<Figure size 720x576 with 1 Axes>"
      ]
     },
     "metadata": {
      "needs_background": "light"
     },
     "output_type": "display_data"
    }
   ],
   "source": [
    "df.groupby('BabyId')['SleepingSecond'].sum().plot(kind='bar', color = 'red');\n",
    "plt.title(\"The maximum sleep taken by baby in seconds\")\n",
    "plt.ylabel('SleepingSecond')\n",
    "plt.rcParams['figure.figsize']=(10,8)\n",
    "plt.xlabel('BabyId')"
   ]
  },
  {
   "cell_type": "markdown",
   "metadata": {},
   "source": [
    "HPT2_NR_30  maximum sleep taken"
   ]
  },
  {
   "cell_type": "markdown",
   "metadata": {},
   "source": [
    "# Which parents have second baby?"
   ]
  },
  {
   "cell_type": "code",
   "execution_count": 430,
   "metadata": {},
   "outputs": [
    {
     "data": {
      "image/png": "[encoded data removed]",
      "text/plain": [
       "<Figure size 1440x720 with 1 Axes>"
      ]
     },
     "metadata": {
      "needs_background": "light"
     },
     "output_type": "display_data"
    }
   ],
   "source": [
    "plt.figure(figsize=(20,10))\n",
    "\n",
    "plt.xticks(size = 10)\n",
    "sns.countplot(x='BabyId', hue = 'FirsttimeParent', data=df);"
   ]
  },
  {
   "cell_type": "markdown",
   "metadata": {},
   "source": [
    "Babies ID HPT2_NR_30 and HPT2_NR_27 their  parents are having 2nd child"
   ]
  },
  {
   "cell_type": "markdown",
   "metadata": {},
   "source": [
    "# Understand the which pump utilization is more"
   ]
  },
  {
   "cell_type": "code",
   "execution_count": 431,
   "metadata": {},
   "outputs": [],
   "source": [
    "pump= df[df['BabyId'].isin([\"HPT2_NR_16\",\"HPT2_NR_18\",\"HPT2_NR_20\",\"HPT2_NR_24\",\"HPT2_NR_30\",])]"
   ]
  },
  {
   "cell_type": "code",
   "execution_count": 432,
   "metadata": {},
   "outputs": [
    {
     "data": {
      "text/html": [
       "<div>\n",
       "<style scoped>\n",
       "    .dataframe tbody tr th:only-of-type {\n",
       "        vertical-align: middle;\n",
       "    }\n",
       "\n",
       "    .dataframe tbody tr th {\n",
       "        vertical-align: top;\n",
       "    }\n",
       "\n",
       "    .dataframe thead th {\n",
       "        text-align: right;\n",
       "    }\n",
       "</style>\n",
       "<table border=\"1\" class=\"dataframe\">\n",
       "  <thead>\n",
       "    <tr style=\"text-align: right;\">\n",
       "      <th></th>\n",
       "      <th>BabyId</th>\n",
       "      <th>FirsttimeParent</th>\n",
       "      <th>Crying_date</th>\n",
       "      <th>Crying_time</th>\n",
       "      <th>Crying_seconds</th>\n",
       "      <th>Feeding_date</th>\n",
       "      <th>Feeding_time</th>\n",
       "      <th>Bottle_amount</th>\n",
       "      <th>PumpingDate</th>\n",
       "      <th>PumpingTime</th>\n",
       "      <th>Pumping_Left</th>\n",
       "      <th>PumpingRight</th>\n",
       "      <th>SleepingDate</th>\n",
       "      <th>SleepingTime</th>\n",
       "      <th>SleepingSecond</th>\n",
       "      <th>day</th>\n",
       "    </tr>\n",
       "  </thead>\n",
       "  <tbody>\n",
       "    <tr>\n",
       "      <th>0</th>\n",
       "      <td>HPT2_NR_16</td>\n",
       "      <td>Yes</td>\n",
       "      <td>2015-08-05</td>\n",
       "      <td>20:31:47</td>\n",
       "      <td>900.0</td>\n",
       "      <td>2015-08-05</td>\n",
       "      <td>20:31:47</td>\n",
       "      <td>180.0</td>\n",
       "      <td>2015-08-05</td>\n",
       "      <td>20:31:47</td>\n",
       "      <td>40.0</td>\n",
       "      <td>30.0</td>\n",
       "      <td>2015-08-05</td>\n",
       "      <td>20:31:47</td>\n",
       "      <td>5153.979043</td>\n",
       "      <td>5</td>\n",
       "    </tr>\n",
       "    <tr>\n",
       "      <th>1</th>\n",
       "      <td>HPT2_NR_16</td>\n",
       "      <td>Yes</td>\n",
       "      <td>2015-08-05</td>\n",
       "      <td>23:33:46</td>\n",
       "      <td>600.0</td>\n",
       "      <td>2015-08-05</td>\n",
       "      <td>23:33:46</td>\n",
       "      <td>180.0</td>\n",
       "      <td>2015-08-05</td>\n",
       "      <td>23:33:46</td>\n",
       "      <td>50.0</td>\n",
       "      <td>35.0</td>\n",
       "      <td>2015-08-05</td>\n",
       "      <td>23:33:46</td>\n",
       "      <td>33365.111960</td>\n",
       "      <td>5</td>\n",
       "    </tr>\n",
       "    <tr>\n",
       "      <th>2</th>\n",
       "      <td>HPT2_NR_16</td>\n",
       "      <td>Yes</td>\n",
       "      <td>2015-08-06</td>\n",
       "      <td>10:20:00</td>\n",
       "      <td>916.0</td>\n",
       "      <td>2015-08-06</td>\n",
       "      <td>10:20:00</td>\n",
       "      <td>180.0</td>\n",
       "      <td>2015-08-06</td>\n",
       "      <td>10:20:00</td>\n",
       "      <td>40.0</td>\n",
       "      <td>32.5</td>\n",
       "      <td>2015-08-06</td>\n",
       "      <td>10:20:00</td>\n",
       "      <td>2100.000000</td>\n",
       "      <td>6</td>\n",
       "    </tr>\n",
       "    <tr>\n",
       "      <th>3</th>\n",
       "      <td>HPT2_NR_16</td>\n",
       "      <td>Yes</td>\n",
       "      <td>2015-08-06</td>\n",
       "      <td>11:30:00</td>\n",
       "      <td>300.0</td>\n",
       "      <td>2015-08-06</td>\n",
       "      <td>11:30:00</td>\n",
       "      <td>35.0</td>\n",
       "      <td>2015-08-06</td>\n",
       "      <td>11:30:00</td>\n",
       "      <td>40.0</td>\n",
       "      <td>32.5</td>\n",
       "      <td>2015-08-06</td>\n",
       "      <td>11:30:00</td>\n",
       "      <td>1200.000000</td>\n",
       "      <td>6</td>\n",
       "    </tr>\n",
       "    <tr>\n",
       "      <th>4</th>\n",
       "      <td>HPT2_NR_16</td>\n",
       "      <td>Yes</td>\n",
       "      <td>2015-08-06</td>\n",
       "      <td>12:15:00</td>\n",
       "      <td>600.0</td>\n",
       "      <td>2015-08-06</td>\n",
       "      <td>12:15:00</td>\n",
       "      <td>180.0</td>\n",
       "      <td>2015-08-06</td>\n",
       "      <td>12:15:00</td>\n",
       "      <td>40.0</td>\n",
       "      <td>32.5</td>\n",
       "      <td>2015-08-06</td>\n",
       "      <td>12:15:00</td>\n",
       "      <td>4800.000000</td>\n",
       "      <td>6</td>\n",
       "    </tr>\n",
       "  </tbody>\n",
       "</table>\n",
       "</div>"
      ],
      "text/plain": [
       "       BabyId FirsttimeParent Crying_date Crying_time  Crying_seconds  \\\n",
       "0  HPT2_NR_16             Yes  2015-08-05    20:31:47           900.0   \n",
       "1  HPT2_NR_16             Yes  2015-08-05    23:33:46           600.0   \n",
       "2  HPT2_NR_16             Yes  2015-08-06    10:20:00           916.0   \n",
       "3  HPT2_NR_16             Yes  2015-08-06    11:30:00           300.0   \n",
       "4  HPT2_NR_16             Yes  2015-08-06    12:15:00           600.0   \n",
       "\n",
       "  Feeding_date Feeding_time  Bottle_amount PumpingDate PumpingTime  \\\n",
       "0   2015-08-05     20:31:47          180.0  2015-08-05    20:31:47   \n",
       "1   2015-08-05     23:33:46          180.0  2015-08-05    23:33:46   \n",
       "2   2015-08-06     10:20:00          180.0  2015-08-06    10:20:00   \n",
       "3   2015-08-06     11:30:00           35.0  2015-08-06    11:30:00   \n",
       "4   2015-08-06     12:15:00          180.0  2015-08-06    12:15:00   \n",
       "\n",
       "   Pumping_Left  PumpingRight SleepingDate SleepingTime  SleepingSecond  day  \n",
       "0          40.0          30.0   2015-08-05     20:31:47     5153.979043    5  \n",
       "1          50.0          35.0   2015-08-05     23:33:46    33365.111960    5  \n",
       "2          40.0          32.5   2015-08-06     10:20:00     2100.000000    6  \n",
       "3          40.0          32.5   2015-08-06     11:30:00     1200.000000    6  \n",
       "4          40.0          32.5   2015-08-06     12:15:00     4800.000000    6  "
      ]
     },
     "execution_count": 432,
     "metadata": {},
     "output_type": "execute_result"
    }
   ],
   "source": [
    "pump.head()"
   ]
  },
  {
   "cell_type": "code",
   "execution_count": 433,
   "metadata": {},
   "outputs": [
    {
     "data": {
      "text/plain": [
       "<matplotlib.axes._subplots.AxesSubplot at 0x1ce6beff588>"
      ]
     },
     "execution_count": 433,
     "metadata": {},
     "output_type": "execute_result"
    },
    {
     "data": {
      "image/png": "[encoded data removed]",
      "text/plain": [
       "<Figure size 720x576 with 2 Axes>"
      ]
     },
     "metadata": {
      "needs_background": "light"
     },
     "output_type": "display_data"
    }
   ],
   "source": [
    "plt.subplot(1,2,1)\n",
    "sns.countplot('Pumping_Left',hue='BabyId',data=pump)\n",
    "\n",
    "plt.subplot(1,2,2)\n",
    "sns.countplot('PumpingRight',hue='BabyId',data=pump)"
   ]
  },
  {
   "cell_type": "markdown",
   "metadata": {},
   "source": [
    "Compared few babyid to decide which side pump has been utlized more,so according to the chart its eqally utized"
   ]
  },
  {
   "cell_type": "markdown",
   "metadata": {},
   "source": [
    "# Comparing sleep time daywise"
   ]
  },
  {
   "cell_type": "code",
   "execution_count": 434,
   "metadata": {},
   "outputs": [],
   "source": [
    "sl_day = df.groupby('day').count()['SleepingSecond'].reset_index()"
   ]
  },
  {
   "cell_type": "code",
   "execution_count": 435,
   "metadata": {},
   "outputs": [
    {
     "data": {
      "text/plain": [
       "Text(0.5, 0, 'day')"
      ]
     },
     "execution_count": 435,
     "metadata": {},
     "output_type": "execute_result"
    },
    {
     "data": {
      "image/png": "[encoded data removed]",
      "text/plain": [
       "<Figure size 1080x360 with 1 Axes>"
      ]
     },
     "metadata": {
      "needs_background": "light"
     },
     "output_type": "display_data"
    }
   ],
   "source": [
    "plt.figure(figsize=[15,5])\n",
    "plt.plot(sl_day['day'],sl_day['SleepingSecond'])\n",
    "plt.xticks(rotation = 'vertical',size=8)\n",
    "\n",
    "plt.title('day-wise-SleepingSecond')\n",
    "plt.ylabel('Seconds')\n",
    "plt.xlabel('day')"
   ]
  },
  {
   "cell_type": "code",
   "execution_count": 436,
   "metadata": {},
   "outputs": [],
   "source": [
    "br = pd.read_excel('birth.xlsx')"
   ]
  },
  {
   "cell_type": "code",
   "execution_count": 437,
   "metadata": {},
   "outputs": [
    {
     "data": {
      "text/html": [
       "<div>\n",
       "<style scoped>\n",
       "    .dataframe tbody tr th:only-of-type {\n",
       "        vertical-align: middle;\n",
       "    }\n",
       "\n",
       "    .dataframe tbody tr th {\n",
       "        vertical-align: top;\n",
       "    }\n",
       "\n",
       "    .dataframe thead th {\n",
       "        text-align: right;\n",
       "    }\n",
       "</style>\n",
       "<table border=\"1\" class=\"dataframe\">\n",
       "  <thead>\n",
       "    <tr style=\"text-align: right;\">\n",
       "      <th></th>\n",
       "      <th>Mom_weight</th>\n",
       "      <th>Mom_height</th>\n",
       "      <th>Mom_Age</th>\n",
       "      <th>Religion</th>\n",
       "      <th>Gender</th>\n",
       "      <th>Birth_Weight</th>\n",
       "    </tr>\n",
       "  </thead>\n",
       "  <tbody>\n",
       "    <tr>\n",
       "      <th>0</th>\n",
       "      <td>41</td>\n",
       "      <td>152</td>\n",
       "      <td>25</td>\n",
       "      <td>1</td>\n",
       "      <td>1</td>\n",
       "      <td>2.06</td>\n",
       "    </tr>\n",
       "    <tr>\n",
       "      <th>1</th>\n",
       "      <td>42</td>\n",
       "      <td>157</td>\n",
       "      <td>25</td>\n",
       "      <td>3</td>\n",
       "      <td>1</td>\n",
       "      <td>1.70</td>\n",
       "    </tr>\n",
       "    <tr>\n",
       "      <th>2</th>\n",
       "      <td>44</td>\n",
       "      <td>153</td>\n",
       "      <td>23</td>\n",
       "      <td>2</td>\n",
       "      <td>1</td>\n",
       "      <td>1.59</td>\n",
       "    </tr>\n",
       "    <tr>\n",
       "      <th>3</th>\n",
       "      <td>45</td>\n",
       "      <td>177</td>\n",
       "      <td>19</td>\n",
       "      <td>2</td>\n",
       "      <td>1</td>\n",
       "      <td>2.73</td>\n",
       "    </tr>\n",
       "    <tr>\n",
       "      <th>4</th>\n",
       "      <td>46</td>\n",
       "      <td>160</td>\n",
       "      <td>19</td>\n",
       "      <td>2</td>\n",
       "      <td>1</td>\n",
       "      <td>2.08</td>\n",
       "    </tr>\n",
       "  </tbody>\n",
       "</table>\n",
       "</div>"
      ],
      "text/plain": [
       "   Mom_weight  Mom_height  Mom_Age  Religion  Gender  Birth_Weight\n",
       "0          41         152       25         1       1          2.06\n",
       "1          42         157       25         3       1          1.70\n",
       "2          44         153       23         2       1          1.59\n",
       "3          45         177       19         2       1          2.73\n",
       "4          46         160       19         2       1          2.08"
      ]
     },
     "execution_count": 437,
     "metadata": {},
     "output_type": "execute_result"
    }
   ],
   "source": [
    "br.head()"
   ]
  },
  {
   "cell_type": "code",
   "execution_count": 438,
   "metadata": {},
   "outputs": [
    {
     "data": {
      "text/plain": [
       "(189, 6)"
      ]
     },
     "execution_count": 438,
     "metadata": {},
     "output_type": "execute_result"
    }
   ],
   "source": [
    "br.shape"
   ]
  },
  {
   "cell_type": "code",
   "execution_count": 439,
   "metadata": {},
   "outputs": [
    {
     "name": "stdout",
     "output_type": "stream",
     "text": [
      "<class 'pandas.core.frame.DataFrame'>\n",
      "RangeIndex: 189 entries, 0 to 188\n",
      "Data columns (total 6 columns):\n",
      " #   Column        Non-Null Count  Dtype  \n",
      "---  ------        --------------  -----  \n",
      " 0   Mom_weight    189 non-null    int64  \n",
      " 1   Mom_height    189 non-null    int64  \n",
      " 2   Mom_Age       189 non-null    int64  \n",
      " 3   Religion      189 non-null    int64  \n",
      " 4   Gender        189 non-null    int64  \n",
      " 5   Birth_Weight  189 non-null    float64\n",
      "dtypes: float64(1), int64(5)\n",
      "memory usage: 9.0 KB\n"
     ]
    }
   ],
   "source": [
    "br.info()"
   ]
  },
  {
   "cell_type": "code",
   "execution_count": 440,
   "metadata": {},
   "outputs": [
    {
     "data": {
      "text/plain": [
       "Mom_weight      0\n",
       "Mom_height      0\n",
       "Mom_Age         0\n",
       "Religion        0\n",
       "Gender          0\n",
       "Birth_Weight    0\n",
       "dtype: int64"
      ]
     },
     "execution_count": 440,
     "metadata": {},
     "output_type": "execute_result"
    }
   ],
   "source": [
    "#null values\n",
    "br.isnull().sum()"
   ]
  },
  {
   "cell_type": "code",
   "execution_count": 441,
   "metadata": {},
   "outputs": [
    {
     "data": {
      "text/html": [
       "<div>\n",
       "<style scoped>\n",
       "    .dataframe tbody tr th:only-of-type {\n",
       "        vertical-align: middle;\n",
       "    }\n",
       "\n",
       "    .dataframe tbody tr th {\n",
       "        vertical-align: top;\n",
       "    }\n",
       "\n",
       "    .dataframe thead th {\n",
       "        text-align: right;\n",
       "    }\n",
       "</style>\n",
       "<table border=\"1\" class=\"dataframe\">\n",
       "  <thead>\n",
       "    <tr style=\"text-align: right;\">\n",
       "      <th></th>\n",
       "      <th>Mom_weight</th>\n",
       "      <th>Mom_height</th>\n",
       "      <th>Mom_Age</th>\n",
       "      <th>Religion</th>\n",
       "      <th>Gender</th>\n",
       "      <th>Birth_Weight</th>\n",
       "    </tr>\n",
       "  </thead>\n",
       "  <tbody>\n",
       "    <tr>\n",
       "      <th>count</th>\n",
       "      <td>189.000000</td>\n",
       "      <td>189.000000</td>\n",
       "      <td>189.000000</td>\n",
       "      <td>189.000000</td>\n",
       "      <td>189.000000</td>\n",
       "      <td>189.000000</td>\n",
       "    </tr>\n",
       "    <tr>\n",
       "      <th>mean</th>\n",
       "      <td>65.089947</td>\n",
       "      <td>172.026455</td>\n",
       "      <td>23.238095</td>\n",
       "      <td>1.793651</td>\n",
       "      <td>1.232804</td>\n",
       "      <td>2.936508</td>\n",
       "    </tr>\n",
       "    <tr>\n",
       "      <th>std</th>\n",
       "      <td>9.966826</td>\n",
       "      <td>8.978363</td>\n",
       "      <td>5.298678</td>\n",
       "      <td>0.808704</td>\n",
       "      <td>0.423741</td>\n",
       "      <td>0.645921</td>\n",
       "    </tr>\n",
       "    <tr>\n",
       "      <th>min</th>\n",
       "      <td>41.000000</td>\n",
       "      <td>151.000000</td>\n",
       "      <td>14.000000</td>\n",
       "      <td>1.000000</td>\n",
       "      <td>1.000000</td>\n",
       "      <td>1.500000</td>\n",
       "    </tr>\n",
       "    <tr>\n",
       "      <th>25%</th>\n",
       "      <td>59.000000</td>\n",
       "      <td>166.000000</td>\n",
       "      <td>19.000000</td>\n",
       "      <td>1.000000</td>\n",
       "      <td>1.000000</td>\n",
       "      <td>2.440000</td>\n",
       "    </tr>\n",
       "    <tr>\n",
       "      <th>50%</th>\n",
       "      <td>69.000000</td>\n",
       "      <td>174.000000</td>\n",
       "      <td>23.000000</td>\n",
       "      <td>2.000000</td>\n",
       "      <td>1.000000</td>\n",
       "      <td>2.980000</td>\n",
       "    </tr>\n",
       "    <tr>\n",
       "      <th>75%</th>\n",
       "      <td>73.000000</td>\n",
       "      <td>178.000000</td>\n",
       "      <td>26.000000</td>\n",
       "      <td>2.000000</td>\n",
       "      <td>1.000000</td>\n",
       "      <td>3.440000</td>\n",
       "    </tr>\n",
       "    <tr>\n",
       "      <th>max</th>\n",
       "      <td>79.000000</td>\n",
       "      <td>189.000000</td>\n",
       "      <td>45.000000</td>\n",
       "      <td>3.000000</td>\n",
       "      <td>2.000000</td>\n",
       "      <td>4.150000</td>\n",
       "    </tr>\n",
       "  </tbody>\n",
       "</table>\n",
       "</div>"
      ],
      "text/plain": [
       "       Mom_weight  Mom_height     Mom_Age    Religion      Gender  \\\n",
       "count  189.000000  189.000000  189.000000  189.000000  189.000000   \n",
       "mean    65.089947  172.026455   23.238095    1.793651    1.232804   \n",
       "std      9.966826    8.978363    5.298678    0.808704    0.423741   \n",
       "min     41.000000  151.000000   14.000000    1.000000    1.000000   \n",
       "25%     59.000000  166.000000   19.000000    1.000000    1.000000   \n",
       "50%     69.000000  174.000000   23.000000    2.000000    1.000000   \n",
       "75%     73.000000  178.000000   26.000000    2.000000    1.000000   \n",
       "max     79.000000  189.000000   45.000000    3.000000    2.000000   \n",
       "\n",
       "       Birth_Weight  \n",
       "count    189.000000  \n",
       "mean       2.936508  \n",
       "std        0.645921  \n",
       "min        1.500000  \n",
       "25%        2.440000  \n",
       "50%        2.980000  \n",
       "75%        3.440000  \n",
       "max        4.150000  "
      ]
     },
     "execution_count": 441,
     "metadata": {},
     "output_type": "execute_result"
    }
   ],
   "source": [
    "br.describe()"
   ]
  },
  {
   "cell_type": "code",
   "execution_count": 442,
   "metadata": {},
   "outputs": [
    {
     "data": {
      "text/plain": [
       "<matplotlib.axes._subplots.AxesSubplot at 0x1ce73617108>"
      ]
     },
     "execution_count": 442,
     "metadata": {},
     "output_type": "execute_result"
    },
    {
     "data": {
      "image/png": "[encoded data removed]",
      "text/plain": [
       "<Figure size 720x576 with 1 Axes>"
      ]
     },
     "metadata": {
      "needs_background": "light"
     },
     "output_type": "display_data"
    }
   ],
   "source": [
    "#finding outliears\n",
    "br.boxplot() "
   ]
  },
  {
   "cell_type": "markdown",
   "metadata": {},
   "source": [
    "# Perform statistical analysis"
   ]
  },
  {
   "cell_type": "markdown",
   "metadata": {},
   "source": [
    "# 2 sided test"
   ]
  },
  {
   "cell_type": "code",
   "execution_count": 443,
   "metadata": {},
   "outputs": [
    {
     "data": {
      "text/plain": [
       "172.02645502645504"
      ]
     },
     "execution_count": 443,
     "metadata": {},
     "output_type": "execute_result"
    }
   ],
   "source": [
    "br['Mom_height'].mean()"
   ]
  },
  {
   "cell_type": "markdown",
   "metadata": {},
   "source": [
    " H0:μ =3\n",
    "Ha : μ ≠ 3"
   ]
  },
  {
   "cell_type": "code",
   "execution_count": 444,
   "metadata": {},
   "outputs": [],
   "source": [
    "samdata= pd.DataFrame({'Mom_height':[np.argsort(np.random.random(1000))[:70]]})"
   ]
  },
  {
   "cell_type": "code",
   "execution_count": 445,
   "metadata": {},
   "outputs": [],
   "source": [
    "meansamdata =samdata.mean()\n",
    "hypMean =170\n",
    "N=70\n",
    "standPop =np.std(br['Mom_height'])"
   ]
  },
  {
   "cell_type": "code",
   "execution_count": 446,
   "metadata": {},
   "outputs": [
    {
     "data": {
      "text/plain": [
       "Mom_height    35.50483\n",
       "Name: 0, dtype: float64"
      ]
     },
     "execution_count": 446,
     "metadata": {},
     "output_type": "execute_result"
    }
   ],
   "source": [
    "(meansamdata-hypMean)/(standPop/math.sqrt(N))"
   ]
  },
  {
   "cell_type": "markdown",
   "metadata": {},
   "source": [
    "-2.8 < crutical value 1.96\n",
    "Rejecting null hypothesis"
   ]
  },
  {
   "cell_type": "markdown",
   "metadata": {},
   "source": [
    "# Analyze and visualize the data"
   ]
  },
  {
   "cell_type": "markdown",
   "metadata": {},
   "source": [
    "# Gender of babieds born"
   ]
  },
  {
   "cell_type": "code",
   "execution_count": 452,
   "metadata": {},
   "outputs": [
    {
     "data": {
      "text/plain": [
       "<matplotlib.axes._subplots.AxesSubplot at 0x1ce6414f788>"
      ]
     },
     "execution_count": 452,
     "metadata": {},
     "output_type": "execute_result"
    },
    {
     "data": {
      "image/png": "[encoded data removed]",
      "text/plain": [
       "<Figure size 432x432 with 1 Axes>"
      ]
     },
     "metadata": {},
     "output_type": "display_data"
    }
   ],
   "source": [
    "br['Gender'].value_counts()\n",
    "br['Gender'].value_counts().plot.pie(figsize=(6, 6), autopct='%.2f')"
   ]
  },
  {
   "cell_type": "markdown",
   "metadata": {},
   "source": [
    " considering male = 1 and female = 2. \n",
    "    Female baby born is more comapred to boy\n",
    "    "
   ]
  },
  {
   "cell_type": "markdown",
   "metadata": {},
   "source": [
    "# comparing babies weight on the bases of gender"
   ]
  },
  {
   "cell_type": "code",
   "execution_count": 468,
   "metadata": {},
   "outputs": [
    {
     "data": {
      "image/png": "[encoded data removed]",
      "text/plain": [
       "<Figure size 1008x1008 with 1 Axes>"
      ]
     },
     "metadata": {
      "needs_background": "light"
     },
     "output_type": "display_data"
    }
   ],
   "source": [
    "plt.figure(figsize=(14,14))\n",
    "sns.countplot(x='Birth_Weight', hue = 'Gender', data=br);"
   ]
  },
  {
   "cell_type": "markdown",
   "metadata": {},
   "source": [
    "maximum weigh of a boy is greater than 4kg and of a girl is 3 kg at the time of birth"
   ]
  },
  {
   "cell_type": "markdown",
   "metadata": {},
   "source": [
    "# Total distribution of religion "
   ]
  },
  {
   "cell_type": "code",
   "execution_count": 454,
   "metadata": {},
   "outputs": [
    {
     "data": {
      "text/plain": [
       "<matplotlib.axes._subplots.AxesSubplot at 0x1ce6fd756c8>"
      ]
     },
     "execution_count": 454,
     "metadata": {},
     "output_type": "execute_result"
    },
    {
     "data": {
      "image/png": "[encoded data removed]",
      "text/plain": [
       "<Figure size 720x576 with 1 Axes>"
      ]
     },
     "metadata": {
      "needs_background": "light"
     },
     "output_type": "display_data"
    }
   ],
   "source": [
    "br.Religion.value_counts().plot(kind='barh')"
   ]
  },
  {
   "cell_type": "markdown",
   "metadata": {},
   "source": [
    "Considering Religion hindu=1,muslim=2  christianity=3\n"
   ]
  },
  {
   "cell_type": "markdown",
   "metadata": {},
   "source": [
    "# Average weight of babies "
   ]
  },
  {
   "cell_type": "code",
   "execution_count": 469,
   "metadata": {},
   "outputs": [
    {
     "data": {
      "text/plain": [
       "2.936507936507936"
      ]
     },
     "execution_count": 469,
     "metadata": {},
     "output_type": "execute_result"
    }
   ],
   "source": [
    "br['Birth_Weight'].mean()"
   ]
  },
  {
   "cell_type": "markdown",
   "metadata": {},
   "source": [
    "# Age of Mother's at the time of birth"
   ]
  },
  {
   "cell_type": "code",
   "execution_count": 456,
   "metadata": {},
   "outputs": [
    {
     "data": {
      "image/png": "[encoded data removed]",
      "text/plain": [
       "<Figure size 720x360 with 1 Axes>"
      ]
     },
     "metadata": {
      "needs_background": "light"
     },
     "output_type": "display_data"
    }
   ],
   "source": [
    "plt.rcParams['figure.figsize']=(10,5)\n",
    "ax = sns.boxplot(x=\"Gender\", y=\"Religion\", data=br)"
   ]
  },
  {
   "cell_type": "markdown",
   "metadata": {},
   "source": [
    "Average of birth weight of babies are  around 2.93"
   ]
  },
  {
   "cell_type": "code",
   "execution_count": 457,
   "metadata": {},
   "outputs": [
    {
     "data": {
      "image/png": "[encoded data removed]",
      "text/plain": [
       "<Figure size 720x360 with 1 Axes>"
      ]
     },
     "metadata": {
      "needs_background": "light"
     },
     "output_type": "display_data"
    }
   ],
   "source": [
    "br['Mom_Age'].value_counts().plot(kind='bar',color='green')\n",
    "plt.title(\"Female most played\")\n",
    "plt.rcParams['figure.figsize']=(10,8)\n",
    "plt.xlabel('Mom_Age');"
   ]
  },
  {
   "cell_type": "code",
   "execution_count": 458,
   "metadata": {},
   "outputs": [
    {
     "name": "stdout",
     "output_type": "stream",
     "text": [
      "45\n"
     ]
    }
   ],
   "source": [
    "print(max(br.Mom_Age))"
   ]
  },
  {
   "cell_type": "code",
   "execution_count": 459,
   "metadata": {},
   "outputs": [
    {
     "name": "stdout",
     "output_type": "stream",
     "text": [
      "14\n"
     ]
    }
   ],
   "source": [
    "print(min(br.Mom_Age))"
   ]
  },
  {
   "cell_type": "markdown",
   "metadata": {},
   "source": [
    "The maximum mother  was of age 20 at the time of delivery"
   ]
  },
  {
   "cell_type": "markdown",
   "metadata": {},
   "source": [
    "# Regression model"
   ]
  },
  {
   "cell_type": "code",
   "execution_count": 460,
   "metadata": {},
   "outputs": [],
   "source": [
    "X= br['Mom_weight'].values\n",
    "Y=br['Mom_height'].values"
   ]
  },
  {
   "cell_type": "code",
   "execution_count": 461,
   "metadata": {},
   "outputs": [
    {
     "name": "stdout",
     "output_type": "stream",
     "text": [
      "0.4842475091113488 140.50681027995867\n"
     ]
    }
   ],
   "source": [
    "Mean_x =np.mean(X)\n",
    "Mean_y =np.mean(Y)\n",
    "\n",
    "n =len(X)\n",
    "\n",
    "numer= 0\n",
    "denom = 0\n",
    "for i in range(n):\n",
    "    numer +=(X[i]-Mean_x) * (Y[i]-Mean_y)\n",
    "    denom += (X[i]-Mean_x) ** 2\n",
    "b1 =numer /denom\n",
    "b0 = Mean_y - (b1 * Mean_x)\n",
    "\n",
    "print(b1,b0)"
   ]
  },
  {
   "cell_type": "markdown",
   "metadata": {},
   "source": [
    "b1=0.48,\n",
    "b2=140"
   ]
  },
  {
   "cell_type": "code",
   "execution_count": 462,
   "metadata": {},
   "outputs": [
    {
     "data": {
      "image/png": "[encoded data removed]",
      "text/plain": [
       "<Figure size 720x576 with 1 Axes>"
      ]
     },
     "metadata": {
      "needs_background": "light"
     },
     "output_type": "display_data"
    }
   ],
   "source": [
    "max_x =np.max(X) + 100\n",
    "min_x =np.min(X) -100\n",
    "# calculating line values x and y\n",
    "x=np.linspace(min_x,max_x,1000)\n",
    "y= b0 + b1 * x\n",
    "\n",
    "#plotting line\n",
    "plt.plot(x,y,color='b',label = 'Regression line')\n",
    "#plotting scatter points\n",
    "plt.scatter(X,Y,color='g',label='Scatter Plot')\n",
    "\n",
    "plt.xlabel('Weight')\n",
    "plt.ylabel('height')\n",
    "plt.legend()\n",
    "plt.show()"
   ]
  },
  {
   "cell_type": "code",
   "execution_count": 463,
   "metadata": {},
   "outputs": [
    {
     "name": "stdout",
     "output_type": "stream",
     "text": [
      "0.28897096092403995\n"
     ]
    }
   ],
   "source": [
    "from sklearn.linear_model import LinearRegression\n",
    "from sklearn.metrics import mean_squared_error\n",
    "X= X.reshape((n,1))\n",
    "reg =LinearRegression()\n",
    "reg=reg.fit(X,Y)\n",
    "Y_pred = reg.predict(X)\n",
    "r2_score =reg.score(X,Y)\n",
    "print(r2_score)"
   ]
  },
  {
   "cell_type": "code",
   "execution_count": 464,
   "metadata": {},
   "outputs": [],
   "source": [
    "X= br['Mom_weight'].values\n",
    "Y=br['Birth_Weight'].values"
   ]
  },
  {
   "cell_type": "code",
   "execution_count": 465,
   "metadata": {},
   "outputs": [
    {
     "name": "stdout",
     "output_type": "stream",
     "text": [
      "0.05185354470000548 -0.4386365444416267\n"
     ]
    }
   ],
   "source": [
    "Mean_x =np.mean(X)\n",
    "Mean_y =np.mean(Y)\n",
    "\n",
    "n =len(X)\n",
    "\n",
    "numer= 0\n",
    "denom = 0\n",
    "for i in range(n):\n",
    "    numer +=(X[i]-Mean_x) * (Y[i]-Mean_y)\n",
    "    denom += (X[i]-Mean_x) ** 2\n",
    "b1 =numer /denom\n",
    "b0 = Mean_y - (b1 * Mean_x)\n",
    "\n",
    "print(b1,b0)"
   ]
  },
  {
   "cell_type": "code",
   "execution_count": 466,
   "metadata": {},
   "outputs": [
    {
     "data": {
      "image/png": "[encoded data removed]",
      "text/plain": [
       "<Figure size 720x576 with 1 Axes>"
      ]
     },
     "metadata": {
      "needs_background": "light"
     },
     "output_type": "display_data"
    }
   ],
   "source": [
    "max_x =np.max(X) + 100\n",
    "min_x =np.min(X) -100\n",
    "# calculating line values x and y\n",
    "x=np.linspace(min_x,max_x,1000)\n",
    "y= b0 + b1 * x\n",
    "\n",
    "#plotting line\n",
    "plt.plot(x,y,color='b',label = 'Regression line')\n",
    "#plotting scatter points\n",
    "plt.scatter(X,Y,color='r',label='Scatter Plot')\n",
    "\n",
    "plt.xlabel('mom_Weight')\n",
    "plt.ylabel('birth_height')\n",
    "plt.legend()\n",
    "plt.show()"
   ]
  },
  {
   "cell_type": "code",
   "execution_count": 467,
   "metadata": {},
   "outputs": [
    {
     "name": "stdout",
     "output_type": "stream",
     "text": [
      "0.6401936893720652\n"
     ]
    }
   ],
   "source": [
    "from sklearn.linear_model import LinearRegression\n",
    "from sklearn.metrics import mean_squared_error\n",
    "X= X.reshape((n,1))\n",
    "reg =LinearRegression()\n",
    "reg=reg.fit(X,Y)\n",
    "Y_pred = reg.predict(X)\n",
    "r2_score =reg.score(X,Y)\n",
    "print(r2_score)"
   ]
  },
  {
   "cell_type": "code",
   "execution_count": null,
   "metadata": {},
   "outputs": [],
   "source": []
  },
  {
   "cell_type": "code",
   "execution_count": null,
   "metadata": {},
   "outputs": [],
   "source": []
  },
  {
   "cell_type": "code",
   "execution_count": null,
   "metadata": {},
   "outputs": [],
   "source": []
  }
 ],
 "metadata": {
  "kernelspec": {
   "display_name": "Python 3",
   "language": "python",
   "name": "python3"
  },
  "language_info": {
   "codemirror_mode": {
    "name": "ipython",
    "version": 3
   },
   "file_extension": ".py",
   "mimetype": "text/x-python",
   "name": "python",
   "nbconvert_exporter": "python",
   "pygments_lexer": "ipython3",
   "version": "3.7.6"
  }
 },
 "nbformat": 4,
 "nbformat_minor": 4
}
